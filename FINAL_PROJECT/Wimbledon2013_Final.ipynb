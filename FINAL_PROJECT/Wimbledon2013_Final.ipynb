{
 "metadata": {
  "name": "Wimbledon2013_Final"
 },
 "nbformat": 3,
 "nbformat_minor": 0,
 "worksheets": [
  {
   "cells": [
    {
     "cell_type": "heading",
     "level": 3,
     "metadata": {},
     "source": "Import necessary libraries and create instance of R."
    },
    {
     "cell_type": "code",
     "collapsed": false,
     "input": "import pandas as pd\nimport pyper as pr\nr = pr.R(RCMD = 'R', use_pandas = True)",
     "language": "python",
     "metadata": {},
     "outputs": [],
     "prompt_number": 1
    },
    {
     "cell_type": "heading",
     "level": 3,
     "metadata": {},
     "source": "Set working directory and import data as Pandas dataframe.  Drop index column included in csv file."
    },
    {
     "cell_type": "code",
     "collapsed": false,
     "input": "cd Documents/School_Work/CMDA3654/CMDA3654",
     "language": "python",
     "metadata": {},
     "outputs": [
      {
       "output_type": "stream",
       "stream": "stdout",
       "text": "/home/dave/Documents/School_Work/CMDA3654/CMDA3654\n"
      }
     ],
     "prompt_number": 2
    },
    {
     "cell_type": "code",
     "collapsed": false,
     "input": "wim2013 = pd.read_csv(\"2013_Wimbledon_Data.csv\")\nwim2013 = wim2013.drop(wim2013.columns[[0]], axis = 1)",
     "language": "python",
     "metadata": {},
     "outputs": [],
     "prompt_number": 3
    },
    {
     "cell_type": "heading",
     "level": 3,
     "metadata": {},
     "source": "Save data as pickle."
    },
    {
     "cell_type": "code",
     "collapsed": false,
     "input": "wim2013.to_pickle('wim2013_pickle')",
     "language": "python",
     "metadata": {},
     "outputs": [],
     "prompt_number": 4
    },
    {
     "cell_type": "heading",
     "level": 3,
     "metadata": {},
     "source": "Make quick examination of data."
    },
    {
     "cell_type": "code",
     "collapsed": false,
     "input": "wim2013.shape\nwim2013.head()",
     "language": "python",
     "metadata": {},
     "outputs": [
      {
       "html": "<div style=\"max-height:1000px;max-width:1500px;overflow:auto;\">\n<table border=\"1\" class=\"dataframe\">\n  <thead>\n    <tr style=\"text-align: right;\">\n      <th></th>\n      <th>P1.Name</th>\n      <th>P2.Name</th>\n      <th>Round.Number</th>\n      <th>Winner.of.Match</th>\n      <th>Final.No.of.Games.Won.P1</th>\n      <th>Final.No.of.Games.Won.P2</th>\n      <th>First.serve.Percentage.P1</th>\n      <th>First.Serve.Won.P1</th>\n      <th>Second.Serve.Percentage.P1</th>\n      <th>Second.Serve.Won.P1</th>\n      <th>Aces.Won.P1</th>\n      <th>Double.Faults.P1</th>\n      <th>Winners.Earned.P1</th>\n      <th>Unforced.Errors.P1</th>\n      <th>Break.Points.Created.P1</th>\n      <th>Break.Points.Won.P1</th>\n      <th>Net.Points.Attempted.P1</th>\n      <th>Net.Points.Won.P1</th>\n      <th>Total.Points.P1</th>\n      <th>Set1.Result.P1</th>\n      <th></th>\n    </tr>\n  </thead>\n  <tbody>\n    <tr>\n      <th>0</th>\n      <td>  B.Becker</td>\n      <td>        A.Murray</td>\n      <td> 1</td>\n      <td> 0</td>\n      <td> 0</td>\n      <td> 3</td>\n      <td> 59</td>\n      <td> 29</td>\n      <td> 41</td>\n      <td> 14</td>\n      <td>  5</td>\n      <td> 1</td>\n      <td> 26</td>\n      <td> 18</td>\n      <td>  5</td>\n      <td> 1</td>\n      <td> 28</td>\n      <td> 19</td>\n      <td> 20</td>\n      <td> 4</td>\n      <td>...</td>\n    </tr>\n    <tr>\n      <th>1</th>\n      <td>    J.Ward</td>\n      <td>          Y-H.Lu</td>\n      <td> 1</td>\n      <td> 0</td>\n      <td> 1</td>\n      <td> 3</td>\n      <td> 62</td>\n      <td> 77</td>\n      <td> 38</td>\n      <td> 35</td>\n      <td> 18</td>\n      <td> 4</td>\n      <td> 60</td>\n      <td> 28</td>\n      <td> 13</td>\n      <td> 1</td>\n      <td> 27</td>\n      <td> 19</td>\n      <td> 20</td>\n      <td> 7</td>\n      <td>...</td>\n    </tr>\n    <tr>\n      <th>2</th>\n      <td>   N.Mahut</td>\n      <td>         J.Hajek</td>\n      <td> 1</td>\n      <td> 1</td>\n      <td> 3</td>\n      <td> 0</td>\n      <td> 72</td>\n      <td> 44</td>\n      <td> 28</td>\n      <td> 10</td>\n      <td> 17</td>\n      <td> 3</td>\n      <td> 41</td>\n      <td> 18</td>\n      <td>  8</td>\n      <td> 5</td>\n      <td> 26</td>\n      <td> 17</td>\n      <td> 22</td>\n      <td> 6</td>\n      <td>...</td>\n    </tr>\n    <tr>\n      <th>3</th>\n      <td> T.Robredo</td>\n      <td> A.Bogomolov Jr.</td>\n      <td> 1</td>\n      <td> 1</td>\n      <td> 3</td>\n      <td> 0</td>\n      <td> 77</td>\n      <td> 40</td>\n      <td> 23</td>\n      <td> 12</td>\n      <td>  6</td>\n      <td> 0</td>\n      <td> 25</td>\n      <td> 11</td>\n      <td> 14</td>\n      <td> 5</td>\n      <td> 14</td>\n      <td> 11</td>\n      <td> 16</td>\n      <td> 6</td>\n      <td>...</td>\n    </tr>\n    <tr>\n      <th>4</th>\n      <td>   R.Haase</td>\n      <td>       M.Youzhny</td>\n      <td> 1</td>\n      <td> 0</td>\n      <td> 0</td>\n      <td> 3</td>\n      <td> 68</td>\n      <td> 61</td>\n      <td> 32</td>\n      <td> 15</td>\n      <td>  7</td>\n      <td> 2</td>\n      <td> 32</td>\n      <td> 29</td>\n      <td>  2</td>\n      <td> 0</td>\n      <td> 29</td>\n      <td> 20</td>\n      <td> 20</td>\n      <td> 4</td>\n      <td>...</td>\n    </tr>\n  </tbody>\n</table>\n<p>5 rows \u00d7 42 columns</p>\n</div>",
       "metadata": {},
       "output_type": "pyout",
       "prompt_number": 5,
       "text": "     P1.Name          P2.Name  Round.Number  Winner.of.Match  \\\n0   B.Becker         A.Murray             1                0   \n1     J.Ward           Y-H.Lu             1                0   \n2    N.Mahut          J.Hajek             1                1   \n3  T.Robredo  A.Bogomolov Jr.             1                1   \n4    R.Haase        M.Youzhny             1                0   \n\n   Final.No.of.Games.Won.P1  Final.No.of.Games.Won.P2  \\\n0                         0                         3   \n1                         1                         3   \n2                         3                         0   \n3                         3                         0   \n4                         0                         3   \n\n   First.serve.Percentage.P1  First.Serve.Won.P1  Second.Serve.Percentage.P1  \\\n0                         59                  29                          41   \n1                         62                  77                          38   \n2                         72                  44                          28   \n3                         77                  40                          23   \n4                         68                  61                          32   \n\n   Second.Serve.Won.P1  Aces.Won.P1  Double.Faults.P1  Winners.Earned.P1  \\\n0                   14            5                 1                 26   \n1                   35           18                 4                 60   \n2                   10           17                 3                 41   \n3                   12            6                 0                 25   \n4                   15            7                 2                 32   \n\n   Unforced.Errors.P1  Break.Points.Created.P1  Break.Points.Won.P1  \\\n0                  18                        5                    1   \n1                  28                       13                    1   \n2                  18                        8                    5   \n3                  11                       14                    5   \n4                  29                        2                    0   \n\n   Net.Points.Attempted.P1  Net.Points.Won.P1  Total.Points.P1  \\\n0                       28                 19               20   \n1                       27                 19               20   \n2                       26                 17               22   \n3                       14                 11               16   \n4                       29                 20               20   \n\n   Set1.Result.P1      \n0               4 ...  \n1               7 ...  \n2               6 ...  \n3               6 ...  \n4               4 ...  \n\n[5 rows x 42 columns]"
      }
     ],
     "prompt_number": 5
    },
    {
     "cell_type": "heading",
     "level": 3,
     "metadata": {},
     "source": "Create R dataframe using PypeR and get summary."
    },
    {
     "cell_type": "code",
     "collapsed": false,
     "input": "r.assign(\"dataset\", wim2013)",
     "language": "python",
     "metadata": {},
     "outputs": [],
     "prompt_number": 9
    },
    {
     "cell_type": "heading",
     "level": 3,
     "metadata": {},
     "source": "Alter column names to make them easier to read."
    },
    {
     "cell_type": "code",
     "collapsed": false,
     "input": "r(\"names(dataset) = c('Player_1_Name', \\\n                   'Player_2_Name', \\\n                   'Round_Number', \\\n                   'Winner_of_Match', \\\n                   'Final_No_of_Games_Won_By_Player_1', \\\n                   'Final_No_of_Games_Won_By_Player_2', \\\n                   'First_Serve_Percentage_for_Player_1', \\\n                   'First_Serve_Won_for_Player_1', \\\n                   'Second_Serve_Percentage_for_Player_1', \\\n                   'Second_Serve_Won_for_Player_1', \\\n                   'Aces_Won_for_Player_1', \\\n                   'Double_Faults_Committed_By_Player_1', \\\n                   'Winners_Earned_for_Player_1', \\\n                   'Unforced_Errors_Committed_by_Player_1', \\\n                   'Break_Points_Created_by_Player_1', \\\n                   'Break_Points_Won_by_Player_1', \\\n                   'Net_Points_Attempted_by_Player_1', \\\n                   'Net_Points_Won_by_Player_1', \\\n                   'Total_Points_Won_by_Player_1', \\\n                   'Set_1_Result_for_Player_1', \\\n                   'Set_2_Result_for_Player_1', \\\n                   'Set_3_Result_for_Player_1', \\\n                   'Set_4_Result_for_Player_1', \\\n                   'Set_5_Result_for_Player_1', \\\n                   'First_Serve_Percentage_for_Player_2', \\\n                   'First_Serve_Won_for_Player_2', \\\n                   'Second_Serve_Percentage_for_Player_2', \\\n                   'Second_Serve_Won_for_Player_2', \\\n                   'Aces_Won_for_Player_2', \\\n                   'Double_Faults_Committed_By_Player_2', \\\n                   'Winners_Earned_for_Player_2', \\\n                   'Unforced_Errors_Committed_by_Player_2', \\\n                   'Break_Points_Created_by_Player_2', \\\n                   'Break_Points_Won_by_Player_2', \\\n                   'Net_Points_Attempted_by_Player_2', \\\n                   'Net_Points_Won_by_Player_2', \\\n                   'Total_Points_Won_by_Player_2', \\\n                   'Set_1_Result_for_Player_2', \\\n                   'Set_2_Result_for_Player_2', \\\n                   'Set_3_Result_for_Player_2', \\\n                   'Set_4_Result_for_Player_2', \\\n                   'Set_5_Result_for_Player_2')\")\n",
     "language": "python",
     "metadata": {},
     "outputs": [
      {
       "metadata": {},
       "output_type": "pyout",
       "prompt_number": 10,
       "text": "'try({source(\"/tmp/tmpwX0nue\")})\\n> file.remove(\\'/tmp/tmpwX0nue\\')\\n[1] TRUE\\n'"
      }
     ],
     "prompt_number": 10
    },
    {
     "cell_type": "heading",
     "level": 3,
     "metadata": {},
     "source": "Create column with total points by adding columns."
    },
    {
     "cell_type": "code",
     "collapsed": false,
     "input": "r(\"dataset$Total_Points_Won_by_Player_1 = dataset$Break_Points_Won_by_Player_1 + dataset$Net_Points_Won_by_Player_1\")",
     "language": "python",
     "metadata": {},
     "outputs": [
      {
       "metadata": {},
       "output_type": "pyout",
       "prompt_number": 11,
       "text": "'try({dataset$Total_Points_Won_by_Player_1 = dataset$Break_Points_Won_by_Player_1 + dataset$Net_Points_Won_by_Player_1})\\n'"
      }
     ],
     "prompt_number": 11
    },
    {
     "cell_type": "heading",
     "level": 3,
     "metadata": {},
     "source": "Get a general summary of the data"
    },
    {
     "cell_type": "code",
     "collapsed": false,
     "input": "print r(\"summary(dataset)\")",
     "language": "python",
     "metadata": {},
     "outputs": [
      {
       "output_type": "stream",
       "stream": "stdout",
       "text": "try({summary(dataset)})\n     Player_1_Name     Player_2_Name  Round_Number   Winner_of_Match \n N.Djokovic : 7    A.Murray   : 7    Min.   :1.000   Min.   :0.0000  \n D.Ferrer   : 4    J.Del Potro: 6    1st Qu.:1.000   1st Qu.:0.0000  \n F.Verdasco : 4    T.Berdych  : 5    Median :1.000   Median :0.0000  \n K.Anderson : 3    I.Dodig    : 3    Mean   :1.904   Mean   :0.4825  \n K.Nishikori: 3    J.Chardy   : 3    3rd Qu.:2.000   3rd Qu.:1.0000  \n L.Kubot    : 3    J.Janowicz : 3    Max.   :7.000   Max.   :1.0000  \n (Other)    :90    (Other)    :87                                    \n Final_No_of_Games_Won_By_Player_1 Final_No_of_Games_Won_By_Player_2\n Min.   :0.000                     Min.   :0.000                    \n 1st Qu.:0.000                     1st Qu.:0.000                    \n Median :2.000                     Median :3.000                    \n Mean   :1.746                     Mean   :1.825                    \n 3rd Qu.:3.000                     3rd Qu.:3.000                    \n Max.   :3.000                     Max.   :3.000                    \n                                                                    \n First_Serve_Percentage_for_Player_1 First_Serve_Won_for_Player_1\n Min.   :43.00                       Min.   : 12.00              \n 1st Qu.:60.00                       1st Qu.: 40.25              \n Median :65.00                       Median : 48.00              \n Mean   :64.25                       Mean   : 52.25              \n 3rd Qu.:68.00                       3rd Qu.: 62.75              \n Max.   :85.00                       Max.   :102.00              \n                                                                 \n Second_Serve_Percentage_for_Player_1 Second_Serve_Won_for_Player_1\n Min.   :15.00                        Min.   : 3.00                \n 1st Qu.:32.00                        1st Qu.:15.25                \n Median :35.00                        Median :20.00                \n Mean   :35.75                        Mean   :20.39                \n 3rd Qu.:40.00                        3rd Qu.:25.00                \n Max.   :57.00                        Max.   :38.00                \n                                                                   \n Aces_Won_for_Player_1 Double_Faults_Committed_By_Player_1\n Min.   : 0.00         Min.   : 0.000                     \n 1st Qu.: 5.25         1st Qu.: 2.000                     \n Median : 9.00         Median : 3.000                     \n Mean   :11.12         Mean   : 3.478                     \n 3rd Qu.:17.00         3rd Qu.: 5.000                     \n Max.   :28.00         Max.   :11.000                     \n                       NA's   :1                          \n Winners_Earned_for_Player_1 Unforced_Errors_Committed_by_Player_1\n Min.   : 8.00               Min.   : 3.00                        \n 1st Qu.:31.00               1st Qu.:16.25                        \n Median :40.00               Median :22.00                        \n Mean   :41.11               Mean   :23.85                        \n 3rd Qu.:53.00               3rd Qu.:29.75                        \n Max.   :80.00               Max.   :60.00                        \n                                                                  \n Break_Points_Created_by_Player_1 Break_Points_Won_by_Player_1\n Min.   : 0.000                   Min.   :0.000               \n 1st Qu.: 4.250                   1st Qu.:1.000               \n Median : 8.000                   Median :2.000               \n Mean   : 8.667                   Mean   :2.789               \n 3rd Qu.:12.000                   3rd Qu.:4.000               \n Max.   :24.000                   Max.   :9.000               \n                                                              \n Net_Points_Attempted_by_Player_1 Net_Points_Won_by_Player_1\n Min.   : 5.00                    Min.   : 3.00             \n 1st Qu.:22.00                    1st Qu.:14.00             \n Median :28.50                    Median :20.00             \n Mean   :32.62                    Mean   :21.53             \n 3rd Qu.:41.75                    3rd Qu.:28.00             \n Max.   :96.00                    Max.   :61.00             \n                                                            \n Total_Points_Won_by_Player_1 Set_1_Result_for_Player_1\n Min.   : 3.00                Min.   :0.000            \n 1st Qu.:16.25                1st Qu.:4.000            \n Median :23.00                Median :6.000            \n Mean   :24.32                Mean   :4.974            \n 3rd Qu.:31.00                3rd Qu.:6.000            \n Max.   :63.00                Max.   :7.000            \n                                                       \n Set_2_Result_for_Player_1 Set_3_Result_for_Player_1 Set_4_Result_for_Player_1\n Min.   :0.000             Min.   :0.000             Min.   :1.000            \n 1st Qu.:4.000             1st Qu.:4.000             1st Qu.:4.000            \n Median :6.000             Median :6.000             Median :6.000            \n Mean   :5.202             Mean   :4.965             Mean   :4.795            \n 3rd Qu.:6.000             3rd Qu.:6.000             3rd Qu.:6.000            \n Max.   :7.000             Max.   :7.000             Max.   :7.000            \n                                                     NA's   :70               \n Set_5_Result_for_Player_1 First_Serve_Percentage_for_Player_2\n Min.   :1.000             Min.   :47.00                      \n 1st Qu.:3.250             1st Qu.:60.00                      \n Median :5.500             Median :64.00                      \n Mean   :4.778             Mean   :63.96                      \n 3rd Qu.:6.000             3rd Qu.:69.00                      \n Max.   :8.000             Max.   :81.00                      \n NA's   :96                                                   \n First_Serve_Won_for_Player_2 Second_Serve_Percentage_for_Player_2\n Min.   : 12.00               Min.   :19.00                       \n 1st Qu.: 41.00               1st Qu.:31.00                       \n Median : 51.00               Median :36.00                       \n Mean   : 52.81               Mean   :36.04                       \n 3rd Qu.: 63.00               3rd Qu.:40.00                       \n Max.   :101.00               Max.   :53.00                       \n                                                                  \n Second_Serve_Won_for_Player_2 Aces_Won_for_Player_2\n Min.   : 8.00                 Min.   : 0.00        \n 1st Qu.:16.00                 1st Qu.: 6.00        \n Median :20.00                 Median :10.00        \n Mean   :21.04                 Mean   :11.32        \n 3rd Qu.:25.00                 3rd Qu.:15.00        \n Max.   :47.00                 Max.   :36.00        \n                                                    \n Double_Faults_Committed_By_Player_2 Winners_Earned_for_Player_2\n Min.   : 0.000                      Min.   :16.00              \n 1st Qu.: 2.000                      1st Qu.:29.00              \n Median : 3.000                      Median :39.50              \n Mean   : 3.425                      Mean   :40.44              \n 3rd Qu.: 4.000                      3rd Qu.:49.75              \n Max.   :13.000                      Max.   :95.00              \n NA's   :1                                                      \n Unforced_Errors_Committed_by_Player_2 Break_Points_Created_by_Player_2\n Min.   : 6.00                         Min.   : 0.000                  \n 1st Qu.:14.25                         1st Qu.: 4.000                  \n Median :21.00                         Median : 8.000                  \n Mean   :24.05                         Mean   : 7.912                  \n 3rd Qu.:30.00                         3rd Qu.:11.000                  \n Max.   :74.00                         Max.   :25.000                  \n                                                                       \n Break_Points_Won_by_Player_2 Net_Points_Attempted_by_Player_2\n Min.   :0.000                Min.   : 4.00                   \n 1st Qu.:1.000                1st Qu.:21.25                   \n Median :3.000                Median :30.00                   \n Mean   :2.868                Mean   :32.40                   \n 3rd Qu.:5.000                3rd Qu.:41.75                   \n Max.   :9.000                Max.   :82.00                   \n                                                              \n Net_Points_Won_by_Player_2 Total_Points_Won_by_Player_2\n Min.   : 1.00              Min.   : 1.00               \n 1st Qu.:14.00              1st Qu.:16.00               \n Median :20.00              Median :23.50               \n Mean   :21.21              Mean   :24.08               \n 3rd Qu.:29.00              3rd Qu.:32.00               \n Max.   :50.00              Max.   :58.00               \n                                                        \n Set_1_Result_for_Player_2 Set_2_Result_for_Player_2 Set_3_Result_for_Player_2\n Min.   :0.000             Min.   :1.000             Min.   :1.000            \n 1st Qu.:4.000             1st Qu.:4.000             1st Qu.:4.000            \n Median :6.000             Median :6.000             Median :6.000            \n Mean   :5.123             Mean   :5.246             Mean   :5.114            \n 3rd Qu.:6.000             3rd Qu.:6.000             3rd Qu.:6.000            \n Max.   :7.000             Max.   :7.000             Max.   :7.000            \n                                                                              \n Set_4_Result_for_Player_2 Set_5_Result_for_Player_2\n Min.   :1.0               Min.   :1.000            \n 1st Qu.:3.0               1st Qu.:4.000            \n Median :6.0               Median :4.000            \n Mean   :4.5               Mean   :4.778            \n 3rd Qu.:6.0               3rd Qu.:6.000            \n Max.   :7.0               Max.   :9.000            \n NA's   :70                NA's   :96               \n\n"
      }
     ],
     "prompt_number": 12
    },
    {
     "cell_type": "heading",
     "level": 3,
     "metadata": {},
     "source": "Summaries of the variables for the Wimbledon dataset:"
    },
    {
     "cell_type": "raw",
     "metadata": {},
     "source": " Player 1 Name, Player 2 Name:\n   A total of 32 players entered into the Men's Wimbledon 2013.\n\n Round Number:\n   There were a total of 7 rounds in the tournament, all the way\n   through the championship game.\n\n Winner of Match:\n   We designated the value 1 for this variable as a win and the\n   the number 0 as a loss.\n\n Final Number of Games Won by Player 1:\n   The maximum number of games won by player 1 was 3, median\n   equal to 2, and mean number of games won by player 1, 1.719.\n Final Number of Games Won by Player 2:\n   The maximum number of games won by player 2 was 3, median\n   equal to 3, and mean number of games won by player 2, 1.825.\n Side Note for Final Number of Games Won by Each Player:\n   Since each player doesn't remain in the same column throughout\n   the whole tournament, i.e. if they begin the tournament as \n   Player 1, that doesn't mean that they remain Player 1 throughout\n   the course of the tournament, that's why the results only have\n   a maximum of 3 and aren't exactly reliable statistics to use for prediction.\n\n First Serve Percentage for Player 1:\n   The range of values stretches from a minimum of 43, to a maximum\n   of 85.  The median is 65 with a mean of 64.25.  This variable denotes\n   the percentage of first serve's by player one that landed in the field\n   of play.\n\n Second Serve Percentage for Player 1:\n   The minimum percentage was 15, reaching to a 57 maximum.  The\n   median percentage is 35 with a mean percentage of 35.75.\n First Serve Won for Player 1:\n   The minimum is 12 times, with a maximum of first serves won 102.\n   The median is 48 occurences with a mean of 52.25.\n\n Second Serve Won for Player 1:\n   The second serve was won by player 1 with a minimum of 3 times,\n   and maximum of 38.  The median is 20 occurences with a mean\n   number of second serves won 20.39.\n\n Aces Won for Player 1:\n   There was a minimum of 0 with a maximum of 28.  A minimum of 0 is\n   understandable with this showing that there were some matches that\n   Player 1 did not have an ace.  The maximum was 28, median, 9, \n   and mean equal to 11.12.\n\n Double Faults Committed by Player 1:\n   The minimum was 0, which also makes sense showing that there were\n   some matches where Player 1 did not committ a double fault.  There \n   also appears to be an NA for this variable, which could be a data\n   collection error, error in entering the data into software, or \n   any other unforeseen circumstance.  However, the maximum was 11\n   occurences, mean, 3.478, and median equal to 3.\n\n Winners Earned for Player 1:\n   The minimum for this variable was 8, maximum 80, median equal to \n   40 and mean, 41.11.  This variable denotes the hits, or serves by \n   player 1 that were not returned into the field of play by the \n   opponent, player 2.  Thus, the greater the number, the better.\n\n Unforced Errors Committed by Player 1:\n   The minimum number of unforced errors in any match was 3.  This \n   is actually quite striking because if you track the player who \n   accomplished this number, he ended up making it all the way to \n   the championship.  On the flipside, the player with the maximum\n   of 60 unforced errors did not make it out of the 1st round.  The\n   median was 22 and mean, 23.85.\n\n Break Points Created by Player 1:\n   The minimum was 0 occurences, and maximum 24 times.  The more break\n   points created by a player the more times they are putting themselves\n   in the advantage position to win each set.  Thus, a higher number of\n   occurences in this case, the better. The median was 8 and mean\n   number of break points created by player 1 equal to 8.667.\n\n Break Points Won by Player 1:\n   The minimum was 0, which in this case is understandable as well.  It\n   just means that there were players that were unable to win a break\n   point in a match.  The maximum was 9, median 2, and mean equal to 2.789.\n\n Net Points Attempted by Player 1:\n   The minimum was 3 and maximum 61.  This variable denotes the amount\n   of points that player 1 won up at the net.  A minimum of 3 means \n   that there was a player who barely got any wins at the net, and on\n   the flipside a different player who dominated at the net.  The median\n   for this variable was 20 and mean equal to 21.53.\n\n Total Points Won by Player 1:\n   The minimum was 3 and maximum 63.  Total points won as a variable \n   obviously denotes the total number of points a player won during\n   an individual match.  With a minimum of 3, that player most definitely\n   lost, and maximum of 63, won.  The median for this variable was 23,\n   and mean equal to 24.32.  With a median of 24.32 that shows that the \n   upper 50% of player 1's had a greater and larger spread of total points\n   won than the lower 50%.\n\n Set Results for Player 1:\n   The 5 set results denote the amount of games won by player 1 in each of\n   the 5 sets.  There are some NA's for Set's 4 and 5.  Since tennis matches\n   are won based on Best of 5 sets, there were matches won within the first \n   3 sets that therefore did not reach the 4th and 5th sets, some just the\n   5th set."
    },
    {
     "cell_type": "heading",
     "level": 3,
     "metadata": {},
     "source": "Create subset of data including only Player 1 statistics, omitting the winner of the round."
    },
    {
     "cell_type": "code",
     "collapsed": false,
     "input": "r(\"subset <- dataset[,4:19]\")\nr(\"subset <- subset[,-3]\")",
     "language": "python",
     "metadata": {},
     "outputs": [
      {
       "metadata": {},
       "output_type": "pyout",
       "prompt_number": 35,
       "text": "'try({subset <- subset[,-3]})\\n'"
      }
     ],
     "prompt_number": 35
    },
    {
     "cell_type": "heading",
     "level": 3,
     "metadata": {},
     "source": "Create training and testing sets."
    },
    {
     "cell_type": "code",
     "collapsed": false,
     "input": "r(\"subset$gp <- runif(dim(subset)[1])\")\nr(\"testSet <- subset(subset, subset$gp <= 0.1)\")\nr(\"trainingSet <- subset(subset, subset$gp > 0.1)\")",
     "language": "python",
     "metadata": {},
     "outputs": [
      {
       "metadata": {},
       "output_type": "pyout",
       "prompt_number": 45,
       "text": "'try({trainingSet <- subset(subset, subset$gp > 0.1)})\\n'"
      }
     ],
     "prompt_number": 45
    },
    {
     "cell_type": "heading",
     "level": 3,
     "metadata": {},
     "source": "Set up function for logistic regression model."
    },
    {
     "cell_type": "code",
     "collapsed": false,
     "input": "r(\"y <- 'Winner_of_Match'\")\nr(\"x <- c('First_Serve_Percentage_for_Player_1' , \\\n       'First_Serve_Won_for_Player_1' , \\\n       'Second_Serve_Percentage_for_Player_1' , \\\n       'Second_Serve_Won_for_Player_1' , \\\n       'Aces_Won_for_Player_1' , \\\n       'Double_Faults_Committed_By_Player_1' , \\\n       'Winners_Earned_for_Player_1' , \\\n       'Unforced_Errors_Committed_by_Player_1' , \\\n       'Break_Points_Created_by_Player_1' , \\\n       'Break_Points_Won_by_Player_1' , \\\n       'Net_Points_Attempted_by_Player_1' , \\\n       'Net_Points_Won_by_Player_1')\")\nr(\"algo <- paste(y, paste(x, collapse='+'), sep='~')\")",
     "language": "python",
     "metadata": {},
     "outputs": [
      {
       "metadata": {},
       "output_type": "pyout",
       "prompt_number": 46,
       "text": "\"try({algo <- paste(y, paste(x, collapse='+'), sep='~')})\\n\""
      }
     ],
     "prompt_number": 46
    },
    {
     "cell_type": "heading",
     "level": 3,
     "metadata": {},
     "source": "Run logistic regression model and get summary."
    },
    {
     "cell_type": "code",
     "collapsed": false,
     "input": "r(\"model <- glm(algo, data=trainingSet, family=binomial(link='logit')) \")\nprint r(\"summary(model)\")",
     "language": "python",
     "metadata": {},
     "outputs": [
      {
       "output_type": "stream",
       "stream": "stdout",
       "text": "try({summary(model)})\n\nCall:\nglm(formula = algo, family = binomial(link = \"logit\"), data = trainingSet)\n\nDeviance Residuals: \n    Min       1Q   Median       3Q      Max  \n-2.3262  -0.2547  -0.0715   0.2611   2.4557  \n\nCoefficients: (1 not defined because of singularities)\n                                      Estimate Std. Error z value Pr(>|z|)    \n(Intercept)                           -7.10004    7.19927  -0.986 0.324027    \nFirst_Serve_Percentage_for_Player_1    0.03984    0.10675   0.373 0.708981    \nFirst_Serve_Won_for_Player_1           0.03468    0.05170   0.671 0.502363    \nSecond_Serve_Percentage_for_Player_1        NA         NA      NA       NA    \nSecond_Serve_Won_for_Player_1          0.04797    0.07913   0.606 0.544414    \nAces_Won_for_Player_1                  0.07839    0.08100   0.968 0.333149    \nDouble_Faults_Committed_By_Player_1    0.12310    0.19399   0.635 0.525702    \nWinners_Earned_for_Player_1            0.02824    0.05698   0.496 0.620217    \nUnforced_Errors_Committed_by_Player_1 -0.19372    0.05706  -3.395 0.000686 ***\nBreak_Points_Created_by_Player_1      -0.03364    0.10706  -0.314 0.753339    \nBreak_Points_Won_by_Player_1           1.47606    0.39750   3.713 0.000205 ***\nNet_Points_Attempted_by_Player_1      -0.07322    0.09374  -0.781 0.434739    \nNet_Points_Won_by_Player_1             0.10440    0.14348   0.728 0.466851    \n---\nSignif. codes:  0 \u2018***\u2019 0.001 \u2018**\u2019 0.01 \u2018*\u2019 0.05 \u2018.\u2019 0.1 \u2018 \u2019 1\n\n(Dispersion parameter for binomial family taken to be 1)\n\n    Null deviance: 146.34  on 105  degrees of freedom\nResidual deviance:  52.76  on  94  degrees of freedom\n  (1 observation deleted due to missingness)\nAIC: 76.76\n\nNumber of Fisher Scoring iterations: 6\n\n\n"
      }
     ],
     "prompt_number": 47
    },
    {
     "cell_type": "heading",
     "level": 3,
     "metadata": {},
     "source": "From this data, we can isolate what are probably the most significant variables and re-run the logistic regression model with only these variables to reduce our margin of error."
    },
    {
     "cell_type": "code",
     "collapsed": false,
     "input": "r(\"x <- c('First_Serve_Percentage_for_Player_1' , \\\n       'Second_Serve_Won_for_Player_1' , \\\n       'Aces_Won_for_Player_1' , \\\n       'Unforced_Errors_Committed_by_Player_1' , \\\n       'Break_Points_Won_by_Player_1')\")\nr(\"algo <- paste(y, paste(x, collapse='+'), sep='~')\")\nr(\"model <- glm(algo, data=trainingSet, family=binomial(link='logit')) \")\nprint r(\"summary(model)\")",
     "language": "python",
     "metadata": {},
     "outputs": [
      {
       "output_type": "stream",
       "stream": "stdout",
       "text": "try({summary(model)})\n\nCall:\nglm(formula = algo, family = binomial(link = \"logit\"), data = trainingSet)\n\nDeviance Residuals: \n    Min       1Q   Median       3Q      Max  \n-2.4496  -0.3039  -0.0927   0.2989   2.4172  \n\nCoefficients:\n                                      Estimate Std. Error z value Pr(>|z|)    \n(Intercept)                           -9.13064    4.77574  -1.912  0.05589 .  \nFirst_Serve_Percentage_for_Player_1    0.08503    0.06526   1.303  0.19261    \nSecond_Serve_Won_for_Player_1          0.09998    0.05871   1.703  0.08857 .  \nAces_Won_for_Player_1                  0.12046    0.05690   2.117  0.03424 *  \nUnforced_Errors_Committed_by_Player_1 -0.15318    0.04267  -3.590  0.00033 ***\nBreak_Points_Won_by_Player_1           1.34265    0.28075   4.782 1.73e-06 ***\n---\nSignif. codes:  0 \u2018***\u2019 0.001 \u2018**\u2019 0.01 \u2018*\u2019 0.05 \u2018.\u2019 0.1 \u2018 \u2019 1\n\n(Dispersion parameter for binomial family taken to be 1)\n\n    Null deviance: 147.875  on 106  degrees of freedom\nResidual deviance:  57.451  on 101  degrees of freedom\nAIC: 69.451\n\nNumber of Fisher Scoring iterations: 6\n\n\n"
      }
     ],
     "prompt_number": 48
    },
    {
     "cell_type": "heading",
     "level": 3,
     "metadata": {},
     "source": "We see that there is a significantly higher likelihood of winning with a higher frequency of break points and a lower frequency of unforced errors.  All other variables are of considerably lower significance."
    },
    {
     "cell_type": "heading",
     "level": 3,
     "metadata": {},
     "source": "Now we set up our prediction sets to test the validity of our model."
    },
    {
     "cell_type": "code",
     "collapsed": false,
     "input": "r(\"trainingSet$pred <- predict(model, newdata=trainingSet, type='response')\")\nr(\"testSet$pred <- predict(model, newdata=testSet, type='response')\")",
     "language": "python",
     "metadata": {},
     "outputs": [
      {
       "metadata": {},
       "output_type": "pyout",
       "prompt_number": 49,
       "text": "\"try({testSet$pred <- predict(model, newdata=testSet, type='response')})\\n\""
      }
     ],
     "prompt_number": 49
    },
    {
     "cell_type": "heading",
     "level": 3,
     "metadata": {},
     "source": "Run a confusion test."
    },
    {
     "cell_type": "code",
     "collapsed": false,
     "input": "r(\"confusion.test <- table(pred=testSet$pred>0.02, Winner_of_Match = testSet$Winner_of_Match)\")\nr(\"confusion.test\")",
     "language": "python",
     "metadata": {},
     "outputs": [
      {
       "metadata": {},
       "output_type": "pyout",
       "prompt_number": 50,
       "text": "'try({confusion.test})\\n       Winner_of_Match\\npred    0 1\\n  FALSE 1 0\\n  TRUE  1 5\\n'"
      }
     ],
     "prompt_number": 50
    },
    {
     "cell_type": "heading",
     "level": 3,
     "metadata": {},
     "source": "Our confusion test indicates two true negatives, four true positives, and one false positive."
    },
    {
     "cell_type": "heading",
     "level": 3,
     "metadata": {},
     "source": "Now we test our accuracy, precision, and recall."
    },
    {
     "cell_type": "code",
     "collapsed": false,
     "input": "r(\"accuracy <- (confusion.test[2,2] + confusion.test[1,1])/sum(confusion.test[,])\")\nr(\"accuracy\")",
     "language": "python",
     "metadata": {},
     "outputs": [
      {
       "metadata": {},
       "output_type": "pyout",
       "prompt_number": 51,
       "text": "'try({accuracy})\\n[1] 0.8571429\\n'"
      }
     ],
     "prompt_number": 51
    },
    {
     "cell_type": "heading",
     "level": 3,
     "metadata": {},
     "source": "The accuracy of our model is 85.7%."
    },
    {
     "cell_type": "code",
     "collapsed": false,
     "input": "r(\"precision <- confusion.test[2,2] / sum(confusion.test[2,])\")\nr(\"precision\")",
     "language": "python",
     "metadata": {},
     "outputs": [
      {
       "metadata": {},
       "output_type": "pyout",
       "prompt_number": 52,
       "text": "'try({precision})\\n[1] 0.8333333\\n'"
      }
     ],
     "prompt_number": 52
    },
    {
     "cell_type": "heading",
     "level": 3,
     "metadata": {},
     "source": "The precision of our model is 83.3%."
    },
    {
     "cell_type": "code",
     "collapsed": false,
     "input": "r(\"recall <- confusion.test[2,2] / sum(confusion.test[,2])\")\nr(\"recall\")",
     "language": "python",
     "metadata": {},
     "outputs": [
      {
       "metadata": {},
       "output_type": "pyout",
       "prompt_number": 53,
       "text": "'try({recall})\\n[1] 1\\n'"
      }
     ],
     "prompt_number": 53
    },
    {
     "cell_type": "heading",
     "level": 3,
     "metadata": {},
     "source": "The recall of our model is 100%."
    },
    {
     "cell_type": "heading",
     "level": 3,
     "metadata": {},
     "source": "Now we check the Area Under the Curve."
    },
    {
     "cell_type": "code",
     "collapsed": false,
     "input": "r(\"library(ROCR)\")\nr(\"trainingSet$response <- trainingSet$Winner_of_Match > 0\")\nr(\"eval <- prediction(trainingSet$pred, trainingSet$response)\")\nr(\"auc_calc <- performance(eval,'auc')\")\nr(\"auc_calc@y.values\")",
     "language": "python",
     "metadata": {},
     "outputs": [
      {
       "metadata": {},
       "output_type": "pyout",
       "prompt_number": 54,
       "text": "'try({auc_calc@y.values})\\n[[1]]\\n[1] 0.954386\\n\\n'"
      }
     ],
     "prompt_number": 54
    },
    {
     "cell_type": "heading",
     "level": 3,
     "metadata": {},
     "source": "This gives us a true positive to false positive ratio of 95.4%."
    },
    {
     "cell_type": "heading",
     "level": 3,
     "metadata": {},
     "source": "Now we take a look at some plots of the data.  Since our most significant variables have been shown to be break points won and unforced errors committed, we will look at those first."
    },
    {
     "cell_type": "heading",
     "level": 3,
     "metadata": {},
     "source": "We create dataframes that show win or loss frequency as a function of both break points and unforced errors."
    },
    {
     "cell_type": "code",
     "collapsed": false,
     "input": "import matplotlib.pyplot as plt\n%matplotlib inline\nbreaks = pd.crosstab(wim2013['Break.Points.Won.P1'], wim2013['Winner.of.Match'])\nerrors = pd.crosstab(wim2013['Unforced.Errors.P1'], wim2013['Winner.of.Match'])",
     "language": "python",
     "metadata": {},
     "outputs": [],
     "prompt_number": 57
    },
    {
     "cell_type": "heading",
     "level": 3,
     "metadata": {},
     "source": "We use a vertical stacked bar chart to show the ratio of wins to losses with different numbers of break points."
    },
    {
     "cell_type": "code",
     "collapsed": false,
     "input": "breakplot = breaks.plot(kind = 'bar', stacked = True)\nplt.xlabel('Number of Break Points')\nplt.ylabel('Frequency')\nplt.legend(['Player 1', 'Lost', 'Won'])\nplt.title('Break Points for Player 1')",
     "language": "python",
     "metadata": {},
     "outputs": [
      {
       "metadata": {},
       "output_type": "pyout",
       "prompt_number": 58,
       "text": "<matplotlib.text.Text at 0x7fda5566ea50>"
      },
      {
       "metadata": {},
       "output_type": "display_data",
       "png": "[encoded data removed]",
       "text": "<matplotlib.figure.Figure at 0x7fda59fbc890>"
      }
     ],
     "prompt_number": 58
    },
    {
     "cell_type": "heading",
     "level": 3,
     "metadata": {},
     "source": "We use a normalized horizontal stacked bar chart to show the ratio of wins to losses by percentage for different numbers of unforced errors."
    },
    {
     "cell_type": "code",
     "collapsed": false,
     "input": "error_pcts = errors.div(errors.sum(1).astype(float), axis=0)\nerrorplot = error_pcts.plot(kind = 'barh', stacked = True)\nplt.ylabel('Number of Unforced Errors')\nplt.xlabel('Frequency')\nplt.yticks(fontsize = 6)\nplt.legend(['Player 1', 'Lost', 'Won'])\nplt.title('Unforced Errors for Player 1')",
     "language": "python",
     "metadata": {},
     "outputs": [
      {
       "metadata": {},
       "output_type": "pyout",
       "prompt_number": 59,
       "text": "<matplotlib.text.Text at 0x7fda554f9dd0>"
      },
      {
       "metadata": {},
       "output_type": "display_data",
       "png": "[encoded data removed]",
       "text": "<matplotlib.figure.Figure at 0x7fda55592250>"
      }
     ],
     "prompt_number": 59
    },
    {
     "cell_type": "heading",
     "level": 3,
     "metadata": {},
     "source": "Now we want to look at a visualization of how well our model fit the training set.  We get the training set prediction and response data from R and combine it in a single dataframe."
    },
    {
     "cell_type": "code",
     "collapsed": false,
     "input": "pred = pd.DataFrame(r.get(\"trainingSet$pred\"))\npred = pred.fillna(1)\nresp = pd.DataFrame(r.get(\"trainingSet$response\"))\nresp = resp.astype(int)\npresp = pd.concat((pred,resp), axis = 1)",
     "language": "python",
     "metadata": {},
     "outputs": [],
     "prompt_number": 60
    },
    {
     "cell_type": "heading",
     "level": 3,
     "metadata": {},
     "source": "We use a hexbin plot to show relative densities of true positives, false positives, true negatives, and false negatives."
    },
    {
     "cell_type": "code",
     "collapsed": false,
     "input": "fig = plt.figure(1)\nax = fig.add_subplot(111, axisbg='black')\nax.hexbin(resp, pred, gridsize = 15, mincnt = 1)\nfig.canvas.draw()\nplt.axis([-0.2, 1.2, -0.2, 1.2])\nplt.ylabel('Predicted')\nplt.xlabel('Actual')\nxticklabels = ['False', 'True']\nplt.title('Predictions Versus Actual')\nplt.colorbar(predresp)",
     "language": "python",
     "metadata": {},
     "outputs": [
      {
       "metadata": {},
       "output_type": "pyout",
       "prompt_number": 74,
       "text": "<matplotlib.colorbar.Colorbar instance at 0x7fda5483a638>"
      },
      {
       "metadata": {},
       "output_type": "display_data",
       "png": "[encoded data removed]",
       "text": "<matplotlib.figure.Figure at 0x7fda54f41ad0>"
      }
     ],
     "prompt_number": 74
    },
    {
     "cell_type": "code",
     "collapsed": false,
     "input": "",
     "language": "python",
     "metadata": {},
     "outputs": []
    }
   ],
   "metadata": {}
  }
 ]
}